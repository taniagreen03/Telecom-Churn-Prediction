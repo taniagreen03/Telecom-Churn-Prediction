{
 "cells": [
  {
   "cell_type": "markdown",
   "id": "f739cc16-2fd0-4806-8131-d0c8b7ec901c",
   "metadata": {},
   "source": [
    "<h1 style=\"color:darkcyan;\">Telecom Churn Prediction Model</h1>\n",
    "\n",
    "**Author**: Tania Green<br>\n",
    "**Dataset**: Telco Customer Churn (https://www.kaggle.com/datasets/blastchar/telco-customer-churn)\n",
    "\n",
    "---"
   ]
  },
  {
   "cell_type": "markdown",
   "id": "5d4e5e2d-b1f0-442f-9928-ff1232b0cdfb",
   "metadata": {},
   "source": [
    "## Table of Contents\n",
    "\n",
    "- [1. Business Understanding](#1-business-understanding)\n",
    "- [2. Data Exploration](#2-data-exploration)\n",
    "- [3. Data Transformation](#3-data-transformation)\n",
    "- [4. Exploratory Data Analysis](#4-exploratory-data-analysis)\n",
    "  - [4.1 Churn by Demographics](#41-churn-by-demographics)\n",
    "  - [4.2 Churn by Service Usage](#42-churn-by-service-usage)\n",
    "  - [4.3 Churn by Billing Details](#43-churn-by-billing-details)\n",
    "- [5. Feature Engineering](#5-feature-engineering)\n",
    "- [6. Modeling](#6-modeling)\n",
    "- [7. Model Evaluation](#7-model-evaluation)\n",
    "- [8. Conclusion](#8-conclusion)"
   ]
  },
  {
   "cell_type": "markdown",
   "id": "a609c632-3f24-4e08-a7bd-f7485354ffc9",
   "metadata": {},
   "source": [
    "<h2 style=\"color:darkcyan;\">1. Business Understanding</h2>\n",
    "\n",
    "This project explores patterns in customer behavior to predict **churn**-the likelihood that a telecom customer will cancel their service. By leveraging customer demographics, service usage, and billing details, we aim to identify key drivers of churn and build a classification model to support retention strategies.\n",
    "\n",
    "**Research Question**: What customer characteristics are most associated with churn, and can we build a model to predict which customers are at risk of leaving? <br>\n",
    "**Goal**: Identify the key factors that contribute to customer churn and develop a predictive model to help the business take preventative action.<br>\n",
    "\n",
    "---\n",
    "\n",
    "## Dataset Overview\n",
    "The dataset contains 7,043 records of telecom customers, each described by demographic, service, and billing features. The target variable is `Churn`.\n",
    "\n",
    "### Column Descriptions\n",
    "\n",
    "- **customerID:** Unique identifier for each customer  \n",
    "- **gender:** Customer's gender: Male or Female  \n",
    "- **SeniorCitizen:** 1 if the customer is a senior citizen, 0 otherwise  \n",
    "- **Partner:** Yes if the customer has a partner, No otherwise  \n",
    "- **Dependents:** Yes if the customer has dependents, No otherwise  \n",
    "- **tenure:** Number of months the customer has stayed with the company  \n",
    "- **PhoneService:** Yes if the customer has phone service, No otherwise  \n",
    "- **MultipleLines:** Yes if the customer has multiple lines, No, or No phone service  \n",
    "- **InternetService:** Type of internet service: DSL, Fiber optic, or No  \n",
    "- **OnlineSecurity:** Whether the customer has online security: Yes, No, or No internet service  \n",
    "- **OnlineBackup:** Whether the customer has online backup: Yes, No, or No internet service  \n",
    "- **DeviceProtection:** Whether the customer has device protection: Yes, No, or No internet service  \n",
    "- **TechSupport:** Whether the customer has tech support: Yes, No, or No internet service  \n",
    "- **StreamingTV:** Whether the customer has streaming TV: Yes, No, or No internet service  \n",
    "- **StreamingMovies:** Whether the customer has streaming movies: Yes, No, or No internet service  \n",
    "- **Contract:** Type of contract: Month-to-month, One year, or Two year  \n",
    "- **PaperlessBilling:** Yes if the customer uses paperless billing, No otherwise  \n",
    "- **PaymentMethod:** Method of payment (e.g., Electronic check, Mailed check, Bank transfer, Credit card)  \n",
    "- **MonthlyCharges:** Amount charged to the customer monthly  \n",
    "- **TotalCharges:** Total amount charged to the customer  \n",
    "- **Churn:** Target variable: Yes if the customer left, No otherwise"
   ]
  },
  {
   "cell_type": "markdown",
   "id": "6d240345-6f4f-4e69-9de4-f6a84e217cfa",
   "metadata": {},
   "source": [
    "---\n",
    "<h2 style=\"color:darkcyan;\">2. Data Exploration</h2>\n",
    "\n",
    "In this section, we imported and assessed the data, focusing on data types and summary statistics. "
   ]
  },
  {
   "cell_type": "code",
   "execution_count": 1,
   "id": "8425e6e4-27fc-42ec-a826-9aaa9cff8d92",
   "metadata": {},
   "outputs": [],
   "source": [
    "import pandas as pd\n",
    "import numpy as np\n",
    "import matplotlib.pyplot as plt\n",
    "import seaborn as sns\n",
    "from sklearn.preprocessing import StandardScaler\n",
    "from sklearn.model_selection import train_test_split\n",
    "from sklearn.linear_model import LogisticRegression\n",
    "from sklearn.ensemble import RandomForestClassifier\n"
   ]
  },
  {
   "cell_type": "code",
   "execution_count": 2,
   "id": "c3210763-1fe3-4585-bda1-7d99b18d99b0",
   "metadata": {},
   "outputs": [
    {
     "data": {
      "text/html": [
       "<div>\n",
       "<style scoped>\n",
       "    .dataframe tbody tr th:only-of-type {\n",
       "        vertical-align: middle;\n",
       "    }\n",
       "\n",
       "    .dataframe tbody tr th {\n",
       "        vertical-align: top;\n",
       "    }\n",
       "\n",
       "    .dataframe thead th {\n",
       "        text-align: right;\n",
       "    }\n",
       "</style>\n",
       "<table border=\"1\" class=\"dataframe\">\n",
       "  <thead>\n",
       "    <tr style=\"text-align: right;\">\n",
       "      <th></th>\n",
       "      <th>customerID</th>\n",
       "      <th>gender</th>\n",
       "      <th>SeniorCitizen</th>\n",
       "      <th>Partner</th>\n",
       "      <th>Dependents</th>\n",
       "      <th>tenure</th>\n",
       "      <th>PhoneService</th>\n",
       "      <th>MultipleLines</th>\n",
       "      <th>InternetService</th>\n",
       "      <th>OnlineSecurity</th>\n",
       "      <th>...</th>\n",
       "      <th>DeviceProtection</th>\n",
       "      <th>TechSupport</th>\n",
       "      <th>StreamingTV</th>\n",
       "      <th>StreamingMovies</th>\n",
       "      <th>Contract</th>\n",
       "      <th>PaperlessBilling</th>\n",
       "      <th>PaymentMethod</th>\n",
       "      <th>MonthlyCharges</th>\n",
       "      <th>TotalCharges</th>\n",
       "      <th>Churn</th>\n",
       "    </tr>\n",
       "  </thead>\n",
       "  <tbody>\n",
       "    <tr>\n",
       "      <th>0</th>\n",
       "      <td>7590-VHVEG</td>\n",
       "      <td>Female</td>\n",
       "      <td>0</td>\n",
       "      <td>Yes</td>\n",
       "      <td>No</td>\n",
       "      <td>1</td>\n",
       "      <td>No</td>\n",
       "      <td>No phone service</td>\n",
       "      <td>DSL</td>\n",
       "      <td>No</td>\n",
       "      <td>...</td>\n",
       "      <td>No</td>\n",
       "      <td>No</td>\n",
       "      <td>No</td>\n",
       "      <td>No</td>\n",
       "      <td>Month-to-month</td>\n",
       "      <td>Yes</td>\n",
       "      <td>Electronic check</td>\n",
       "      <td>29.85</td>\n",
       "      <td>29.85</td>\n",
       "      <td>No</td>\n",
       "    </tr>\n",
       "    <tr>\n",
       "      <th>1</th>\n",
       "      <td>5575-GNVDE</td>\n",
       "      <td>Male</td>\n",
       "      <td>0</td>\n",
       "      <td>No</td>\n",
       "      <td>No</td>\n",
       "      <td>34</td>\n",
       "      <td>Yes</td>\n",
       "      <td>No</td>\n",
       "      <td>DSL</td>\n",
       "      <td>Yes</td>\n",
       "      <td>...</td>\n",
       "      <td>Yes</td>\n",
       "      <td>No</td>\n",
       "      <td>No</td>\n",
       "      <td>No</td>\n",
       "      <td>One year</td>\n",
       "      <td>No</td>\n",
       "      <td>Mailed check</td>\n",
       "      <td>56.95</td>\n",
       "      <td>1889.5</td>\n",
       "      <td>No</td>\n",
       "    </tr>\n",
       "    <tr>\n",
       "      <th>2</th>\n",
       "      <td>3668-QPYBK</td>\n",
       "      <td>Male</td>\n",
       "      <td>0</td>\n",
       "      <td>No</td>\n",
       "      <td>No</td>\n",
       "      <td>2</td>\n",
       "      <td>Yes</td>\n",
       "      <td>No</td>\n",
       "      <td>DSL</td>\n",
       "      <td>Yes</td>\n",
       "      <td>...</td>\n",
       "      <td>No</td>\n",
       "      <td>No</td>\n",
       "      <td>No</td>\n",
       "      <td>No</td>\n",
       "      <td>Month-to-month</td>\n",
       "      <td>Yes</td>\n",
       "      <td>Mailed check</td>\n",
       "      <td>53.85</td>\n",
       "      <td>108.15</td>\n",
       "      <td>Yes</td>\n",
       "    </tr>\n",
       "    <tr>\n",
       "      <th>3</th>\n",
       "      <td>7795-CFOCW</td>\n",
       "      <td>Male</td>\n",
       "      <td>0</td>\n",
       "      <td>No</td>\n",
       "      <td>No</td>\n",
       "      <td>45</td>\n",
       "      <td>No</td>\n",
       "      <td>No phone service</td>\n",
       "      <td>DSL</td>\n",
       "      <td>Yes</td>\n",
       "      <td>...</td>\n",
       "      <td>Yes</td>\n",
       "      <td>Yes</td>\n",
       "      <td>No</td>\n",
       "      <td>No</td>\n",
       "      <td>One year</td>\n",
       "      <td>No</td>\n",
       "      <td>Bank transfer (automatic)</td>\n",
       "      <td>42.30</td>\n",
       "      <td>1840.75</td>\n",
       "      <td>No</td>\n",
       "    </tr>\n",
       "    <tr>\n",
       "      <th>4</th>\n",
       "      <td>9237-HQITU</td>\n",
       "      <td>Female</td>\n",
       "      <td>0</td>\n",
       "      <td>No</td>\n",
       "      <td>No</td>\n",
       "      <td>2</td>\n",
       "      <td>Yes</td>\n",
       "      <td>No</td>\n",
       "      <td>Fiber optic</td>\n",
       "      <td>No</td>\n",
       "      <td>...</td>\n",
       "      <td>No</td>\n",
       "      <td>No</td>\n",
       "      <td>No</td>\n",
       "      <td>No</td>\n",
       "      <td>Month-to-month</td>\n",
       "      <td>Yes</td>\n",
       "      <td>Electronic check</td>\n",
       "      <td>70.70</td>\n",
       "      <td>151.65</td>\n",
       "      <td>Yes</td>\n",
       "    </tr>\n",
       "  </tbody>\n",
       "</table>\n",
       "<p>5 rows × 21 columns</p>\n",
       "</div>"
      ],
      "text/plain": [
       "   customerID  gender  SeniorCitizen Partner Dependents  tenure PhoneService  \\\n",
       "0  7590-VHVEG  Female              0     Yes         No       1           No   \n",
       "1  5575-GNVDE    Male              0      No         No      34          Yes   \n",
       "2  3668-QPYBK    Male              0      No         No       2          Yes   \n",
       "3  7795-CFOCW    Male              0      No         No      45           No   \n",
       "4  9237-HQITU  Female              0      No         No       2          Yes   \n",
       "\n",
       "      MultipleLines InternetService OnlineSecurity  ... DeviceProtection  \\\n",
       "0  No phone service             DSL             No  ...               No   \n",
       "1                No             DSL            Yes  ...              Yes   \n",
       "2                No             DSL            Yes  ...               No   \n",
       "3  No phone service             DSL            Yes  ...              Yes   \n",
       "4                No     Fiber optic             No  ...               No   \n",
       "\n",
       "  TechSupport StreamingTV StreamingMovies        Contract PaperlessBilling  \\\n",
       "0          No          No              No  Month-to-month              Yes   \n",
       "1          No          No              No        One year               No   \n",
       "2          No          No              No  Month-to-month              Yes   \n",
       "3         Yes          No              No        One year               No   \n",
       "4          No          No              No  Month-to-month              Yes   \n",
       "\n",
       "               PaymentMethod MonthlyCharges  TotalCharges Churn  \n",
       "0           Electronic check          29.85         29.85    No  \n",
       "1               Mailed check          56.95        1889.5    No  \n",
       "2               Mailed check          53.85        108.15   Yes  \n",
       "3  Bank transfer (automatic)          42.30       1840.75    No  \n",
       "4           Electronic check          70.70        151.65   Yes  \n",
       "\n",
       "[5 rows x 21 columns]"
      ]
     },
     "execution_count": 2,
     "metadata": {},
     "output_type": "execute_result"
    }
   ],
   "source": [
    "churn_df = pd.read_csv('data/WA_Fn-UseC_-Telco-Customer-Churn.csv')\n",
    "churn_df.head()"
   ]
  },
  {
   "cell_type": "code",
   "execution_count": 3,
   "id": "ae2c8802-b1d2-41c6-963c-25db79138472",
   "metadata": {},
   "outputs": [
    {
     "name": "stdout",
     "output_type": "stream",
     "text": [
      "<class 'pandas.core.frame.DataFrame'>\n",
      "RangeIndex: 7043 entries, 0 to 7042\n",
      "Data columns (total 21 columns):\n",
      " #   Column            Non-Null Count  Dtype  \n",
      "---  ------            --------------  -----  \n",
      " 0   customerID        7043 non-null   object \n",
      " 1   gender            7043 non-null   object \n",
      " 2   SeniorCitizen     7043 non-null   int64  \n",
      " 3   Partner           7043 non-null   object \n",
      " 4   Dependents        7043 non-null   object \n",
      " 5   tenure            7043 non-null   int64  \n",
      " 6   PhoneService      7043 non-null   object \n",
      " 7   MultipleLines     7043 non-null   object \n",
      " 8   InternetService   7043 non-null   object \n",
      " 9   OnlineSecurity    7043 non-null   object \n",
      " 10  OnlineBackup      7043 non-null   object \n",
      " 11  DeviceProtection  7043 non-null   object \n",
      " 12  TechSupport       7043 non-null   object \n",
      " 13  StreamingTV       7043 non-null   object \n",
      " 14  StreamingMovies   7043 non-null   object \n",
      " 15  Contract          7043 non-null   object \n",
      " 16  PaperlessBilling  7043 non-null   object \n",
      " 17  PaymentMethod     7043 non-null   object \n",
      " 18  MonthlyCharges    7043 non-null   float64\n",
      " 19  TotalCharges      7043 non-null   object \n",
      " 20  Churn             7043 non-null   object \n",
      "dtypes: float64(1), int64(2), object(18)\n",
      "memory usage: 1.1+ MB\n"
     ]
    }
   ],
   "source": [
    "churn_df.info()"
   ]
  },
  {
   "cell_type": "code",
   "execution_count": 4,
   "id": "697aa377-e75a-4fd2-966f-9a11f2c0ec90",
   "metadata": {},
   "outputs": [
    {
     "data": {
      "text/html": [
       "<div>\n",
       "<style scoped>\n",
       "    .dataframe tbody tr th:only-of-type {\n",
       "        vertical-align: middle;\n",
       "    }\n",
       "\n",
       "    .dataframe tbody tr th {\n",
       "        vertical-align: top;\n",
       "    }\n",
       "\n",
       "    .dataframe thead th {\n",
       "        text-align: right;\n",
       "    }\n",
       "</style>\n",
       "<table border=\"1\" class=\"dataframe\">\n",
       "  <thead>\n",
       "    <tr style=\"text-align: right;\">\n",
       "      <th></th>\n",
       "      <th>SeniorCitizen</th>\n",
       "      <th>tenure</th>\n",
       "      <th>MonthlyCharges</th>\n",
       "    </tr>\n",
       "  </thead>\n",
       "  <tbody>\n",
       "    <tr>\n",
       "      <th>count</th>\n",
       "      <td>7043.000000</td>\n",
       "      <td>7043.000000</td>\n",
       "      <td>7043.000000</td>\n",
       "    </tr>\n",
       "    <tr>\n",
       "      <th>mean</th>\n",
       "      <td>0.162147</td>\n",
       "      <td>32.371149</td>\n",
       "      <td>64.761692</td>\n",
       "    </tr>\n",
       "    <tr>\n",
       "      <th>std</th>\n",
       "      <td>0.368612</td>\n",
       "      <td>24.559481</td>\n",
       "      <td>30.090047</td>\n",
       "    </tr>\n",
       "    <tr>\n",
       "      <th>min</th>\n",
       "      <td>0.000000</td>\n",
       "      <td>0.000000</td>\n",
       "      <td>18.250000</td>\n",
       "    </tr>\n",
       "    <tr>\n",
       "      <th>25%</th>\n",
       "      <td>0.000000</td>\n",
       "      <td>9.000000</td>\n",
       "      <td>35.500000</td>\n",
       "    </tr>\n",
       "    <tr>\n",
       "      <th>50%</th>\n",
       "      <td>0.000000</td>\n",
       "      <td>29.000000</td>\n",
       "      <td>70.350000</td>\n",
       "    </tr>\n",
       "    <tr>\n",
       "      <th>75%</th>\n",
       "      <td>0.000000</td>\n",
       "      <td>55.000000</td>\n",
       "      <td>89.850000</td>\n",
       "    </tr>\n",
       "    <tr>\n",
       "      <th>max</th>\n",
       "      <td>1.000000</td>\n",
       "      <td>72.000000</td>\n",
       "      <td>118.750000</td>\n",
       "    </tr>\n",
       "  </tbody>\n",
       "</table>\n",
       "</div>"
      ],
      "text/plain": [
       "       SeniorCitizen       tenure  MonthlyCharges\n",
       "count    7043.000000  7043.000000     7043.000000\n",
       "mean        0.162147    32.371149       64.761692\n",
       "std         0.368612    24.559481       30.090047\n",
       "min         0.000000     0.000000       18.250000\n",
       "25%         0.000000     9.000000       35.500000\n",
       "50%         0.000000    29.000000       70.350000\n",
       "75%         0.000000    55.000000       89.850000\n",
       "max         1.000000    72.000000      118.750000"
      ]
     },
     "execution_count": 4,
     "metadata": {},
     "output_type": "execute_result"
    }
   ],
   "source": [
    "churn_df.describe()"
   ]
  },
  {
   "cell_type": "code",
   "execution_count": 5,
   "id": "32c06807-98d0-41ad-9559-1f1e9b40a3fe",
   "metadata": {},
   "outputs": [
    {
     "data": {
      "text/plain": [
       "0"
      ]
     },
     "execution_count": 5,
     "metadata": {},
     "output_type": "execute_result"
    }
   ],
   "source": [
    "# check for duplicate customers\n",
    "churn_df['customerID'].duplicated().sum()"
   ]
  },
  {
   "cell_type": "markdown",
   "id": "2226f946-0d5b-4c60-8409-7129388106a8",
   "metadata": {},
   "source": [
    "**<h3 style=\"color:black;\">Section 2 Summary</h3>**\n",
    "\n",
    "* The data contained inconsistent formatting for categorical fields (i.e., 0s/1s, Yes/No, Male/Female).\n",
    "* The TotalCharges field was incorrectly formatted as a string instead of a float.\n",
    "* There were 0 columns with null values\n",
    "* There were no duplicate customerIDs"
   ]
  },
  {
   "cell_type": "markdown",
   "id": "7cf386a5-8479-498c-ac88-756436846c4a",
   "metadata": {},
   "source": [
    "---\n",
    "<h2 style=\"color:darkcyan;\">3. Data Transformation</h2>\n",
    "\n",
    "In this section, we converted data types and prepared the data for re-encoding. "
   ]
  },
  {
   "cell_type": "code",
   "execution_count": 6,
   "id": "7df3bd2a-67aa-4581-bc9e-cb3477798c26",
   "metadata": {},
   "outputs": [],
   "source": [
    "def show_unique_values(dataframe, column_name):\n",
    "    \"\"\"\n",
    "    Returns the unique values in a given column.\n",
    "    \n",
    "    Parameters:\n",
    "    dataframe (DataFrame) - the dataframe that holds the column\n",
    "    column_name (string) - the name of the column being assessed\n",
    "    \n",
    "    Returns:\n",
    "    An array including the unique column values\n",
    "    \"\"\"\n",
    "    unique_values = dataframe[column_name].unique()\n",
    "    return unique_values"
   ]
  },
  {
   "cell_type": "code",
   "execution_count": 7,
   "id": "303e6f81-e1d1-4619-90fc-cdb9f2cb2e0e",
   "metadata": {},
   "outputs": [],
   "source": [
    "#1 identify the columns that should be intergers or floats & convert them\n",
    "churn_df['TotalCharges'] = churn_df['TotalCharges'].replace(' ', np.nan)\n",
    "churn_df['TotalCharges'] = churn_df['TotalCharges'].astype(float)"
   ]
  },
  {
   "cell_type": "code",
   "execution_count": 8,
   "id": "68969960-2d9e-47c8-b7bc-a73dafd547ec",
   "metadata": {},
   "outputs": [
    {
     "data": {
      "text/plain": [
       "array([0, 1])"
      ]
     },
     "execution_count": 8,
     "metadata": {},
     "output_type": "execute_result"
    }
   ],
   "source": [
    "show_unique_values(churn_df, 'SeniorCitizen')"
   ]
  },
  {
   "cell_type": "code",
   "execution_count": 9,
   "id": "080f50c3-c8b9-4df3-a4df-2378377ea752",
   "metadata": {
    "scrolled": true
   },
   "outputs": [
    {
     "name": "stdout",
     "output_type": "stream",
     "text": [
      "\n",
      "customerID:\n",
      " ['7590-VHVEG' '5575-GNVDE' '3668-QPYBK' ... '4801-JZAZL' '8361-LTMKD'\n",
      " '3186-AJIEK']\n",
      "\n",
      "gender:\n",
      " ['Female' 'Male']\n",
      "\n",
      "Partner:\n",
      " ['Yes' 'No']\n",
      "\n",
      "Dependents:\n",
      " ['No' 'Yes']\n",
      "\n",
      "PhoneService:\n",
      " ['No' 'Yes']\n",
      "\n",
      "MultipleLines:\n",
      " ['No phone service' 'No' 'Yes']\n",
      "\n",
      "InternetService:\n",
      " ['DSL' 'Fiber optic' 'No']\n",
      "\n",
      "OnlineSecurity:\n",
      " ['No' 'Yes' 'No internet service']\n",
      "\n",
      "OnlineBackup:\n",
      " ['Yes' 'No' 'No internet service']\n",
      "\n",
      "DeviceProtection:\n",
      " ['No' 'Yes' 'No internet service']\n",
      "\n",
      "TechSupport:\n",
      " ['No' 'Yes' 'No internet service']\n",
      "\n",
      "StreamingTV:\n",
      " ['No' 'Yes' 'No internet service']\n",
      "\n",
      "StreamingMovies:\n",
      " ['No' 'Yes' 'No internet service']\n",
      "\n",
      "Contract:\n",
      " ['Month-to-month' 'One year' 'Two year']\n",
      "\n",
      "PaperlessBilling:\n",
      " ['Yes' 'No']\n",
      "\n",
      "PaymentMethod:\n",
      " ['Electronic check' 'Mailed check' 'Bank transfer (automatic)'\n",
      " 'Credit card (automatic)']\n",
      "\n",
      "Churn:\n",
      " ['No' 'Yes']\n"
     ]
    }
   ],
   "source": [
    "# using a for loop to quickly check the unique values in all the categorical columns\n",
    "for col in churn_df.select_dtypes(include='object'):\n",
    "    print(f\"\\n{col}:\\n\", churn_df[col].unique())"
   ]
  },
  {
   "cell_type": "code",
   "execution_count": 10,
   "id": "84aedcac-0a21-4e8b-8972-e1543c074e3b",
   "metadata": {},
   "outputs": [
    {
     "data": {
      "text/html": [
       "<div>\n",
       "<style scoped>\n",
       "    .dataframe tbody tr th:only-of-type {\n",
       "        vertical-align: middle;\n",
       "    }\n",
       "\n",
       "    .dataframe tbody tr th {\n",
       "        vertical-align: top;\n",
       "    }\n",
       "\n",
       "    .dataframe thead th {\n",
       "        text-align: right;\n",
       "    }\n",
       "</style>\n",
       "<table border=\"1\" class=\"dataframe\">\n",
       "  <thead>\n",
       "    <tr style=\"text-align: right;\">\n",
       "      <th></th>\n",
       "      <th>customerID</th>\n",
       "      <th>gender</th>\n",
       "      <th>SeniorCitizen</th>\n",
       "      <th>Partner</th>\n",
       "      <th>Dependents</th>\n",
       "      <th>tenure</th>\n",
       "      <th>PhoneService</th>\n",
       "      <th>MultipleLines</th>\n",
       "      <th>InternetService</th>\n",
       "      <th>OnlineSecurity</th>\n",
       "      <th>...</th>\n",
       "      <th>DeviceProtection</th>\n",
       "      <th>TechSupport</th>\n",
       "      <th>StreamingTV</th>\n",
       "      <th>StreamingMovies</th>\n",
       "      <th>Contract</th>\n",
       "      <th>PaperlessBilling</th>\n",
       "      <th>PaymentMethod</th>\n",
       "      <th>MonthlyCharges</th>\n",
       "      <th>TotalCharges</th>\n",
       "      <th>Churn</th>\n",
       "    </tr>\n",
       "  </thead>\n",
       "  <tbody>\n",
       "  </tbody>\n",
       "</table>\n",
       "<p>0 rows × 21 columns</p>\n",
       "</div>"
      ],
      "text/plain": [
       "Empty DataFrame\n",
       "Columns: [customerID, gender, SeniorCitizen, Partner, Dependents, tenure, PhoneService, MultipleLines, InternetService, OnlineSecurity, OnlineBackup, DeviceProtection, TechSupport, StreamingTV, StreamingMovies, Contract, PaperlessBilling, PaymentMethod, MonthlyCharges, TotalCharges, Churn]\n",
       "Index: []\n",
       "\n",
       "[0 rows x 21 columns]"
      ]
     },
     "execution_count": 10,
     "metadata": {},
     "output_type": "execute_result"
    }
   ],
   "source": [
    "internet_services = ['OnlineSecurity', 'OnlineBackup', 'DeviceProtection', \n",
    "                     'TechSupport', 'StreamingTV', 'StreamingMovies']\n",
    "\n",
    "# Look for rows where a customer has \"No internet service\" in one column,\n",
    "# but \"Yes\" or \"No\" in another\n",
    "mask = churn_df[internet_services].apply(lambda x: (x != 'No internet service').any(), axis=1)\n",
    "churn_df[ (churn_df['InternetService'] == 'No') & mask ]\n"
   ]
  },
  {
   "cell_type": "code",
   "execution_count": 11,
   "id": "a37d224b-3c42-41bb-8990-992ea894f007",
   "metadata": {},
   "outputs": [
    {
     "name": "stdout",
     "output_type": "stream",
     "text": [
      "<class 'pandas.core.frame.DataFrame'>\n",
      "RangeIndex: 7043 entries, 0 to 7042\n",
      "Data columns (total 21 columns):\n",
      " #   Column            Non-Null Count  Dtype  \n",
      "---  ------            --------------  -----  \n",
      " 0   customerID        7043 non-null   object \n",
      " 1   gender            7043 non-null   object \n",
      " 2   SeniorCitizen     7043 non-null   int64  \n",
      " 3   Partner           7043 non-null   object \n",
      " 4   Dependents        7043 non-null   object \n",
      " 5   tenure            7043 non-null   int64  \n",
      " 6   PhoneService      7043 non-null   object \n",
      " 7   MultipleLines     7043 non-null   object \n",
      " 8   InternetService   7043 non-null   object \n",
      " 9   OnlineSecurity    7043 non-null   object \n",
      " 10  OnlineBackup      7043 non-null   object \n",
      " 11  DeviceProtection  7043 non-null   object \n",
      " 12  TechSupport       7043 non-null   object \n",
      " 13  StreamingTV       7043 non-null   object \n",
      " 14  StreamingMovies   7043 non-null   object \n",
      " 15  Contract          7043 non-null   object \n",
      " 16  PaperlessBilling  7043 non-null   object \n",
      " 17  PaymentMethod     7043 non-null   object \n",
      " 18  MonthlyCharges    7043 non-null   float64\n",
      " 19  TotalCharges      7032 non-null   float64\n",
      " 20  Churn             7043 non-null   object \n",
      "dtypes: float64(2), int64(2), object(17)\n",
      "memory usage: 1.1+ MB\n"
     ]
    }
   ],
   "source": [
    "# confirming all data cleaning steps were completed as expected.\n",
    "churn_df.info()"
   ]
  },
  {
   "cell_type": "markdown",
   "id": "57c678ec-18ad-418e-b88a-8b8b379b7920",
   "metadata": {},
   "source": [
    "---\n",
    "<h2 style=\"color:darkcyan;\">4. Exploratory Data Analysis</h2>"
   ]
  },
  {
   "cell_type": "markdown",
   "id": "351c7109-e374-4e86-aa82-298b67b942ff",
   "metadata": {},
   "source": [
    "In this section, we assessed how churn varies by various focus groups including customer demographics, service type, and contract/billing."
   ]
  },
  {
   "cell_type": "markdown",
   "id": "c1ae45d3-2128-4c15-8b37-b8460db3be67",
   "metadata": {},
   "source": [
    "**<h3 style=\"color:black;\">4.1 Churn by Customer Demographics</h3>**"
   ]
  },
  {
   "cell_type": "code",
   "execution_count": 12,
   "id": "4ae70a0d-3828-4dad-919b-3b95f94c3cd6",
   "metadata": {},
   "outputs": [],
   "source": [
    "def churn_by_column(dataframe_name, column_name):\n",
    "    \"\"\"\n",
    "    Assesses the churn rate by a given categorical column (e.g., gender, SeniorCitizen, Contract).\n",
    "\n",
    "    Parameters:\n",
    "    dataframe_name (DataFrame) - name of the dataframe containing the churn data\n",
    "    column_name (string) - name of the column to assess churn distribution across\n",
    "\n",
    "    Returns:\n",
    "    DataFrame - A table showing churn rates (Yes/No) as a proportion within each category of the column\n",
    "    \"\"\"\n",
    "\n",
    "    churn_summary = dataframe_name.groupby(column_name)['Churn'].value_counts(normalize=True).unstack()\n",
    "    return churn_summary"
   ]
  },
  {
   "cell_type": "code",
   "execution_count": 13,
   "id": "58d22996-503f-4864-9ce5-622205e1b1f9",
   "metadata": {},
   "outputs": [
    {
     "name": "stdout",
     "output_type": "stream",
     "text": [
      "Churn         No       Yes\n",
      "gender                    \n",
      "Female  0.730791  0.269209\n",
      "Male    0.738397  0.261603\n"
     ]
    }
   ],
   "source": [
    "gender_churn = churn_by_column(churn_df, 'gender')\n",
    "print(gender_churn)"
   ]
  },
  {
   "cell_type": "code",
   "execution_count": 14,
   "id": "bd2591bf-556f-4c22-b230-6e8ce0cb9ea2",
   "metadata": {},
   "outputs": [
    {
     "name": "stdout",
     "output_type": "stream",
     "text": [
      "Churn          No       Yes\n",
      "Partner                    \n",
      "No       0.670420  0.329580\n",
      "Yes      0.803351  0.196649\n"
     ]
    }
   ],
   "source": [
    "partner_status_churn = churn_by_column(churn_df, 'Partner')\n",
    "print(partner_status_churn)"
   ]
  },
  {
   "cell_type": "code",
   "execution_count": 15,
   "id": "df5df9c1-f137-47e7-aa64-4a93b9cf8c6c",
   "metadata": {},
   "outputs": [
    {
     "name": "stdout",
     "output_type": "stream",
     "text": [
      "Churn             No       Yes\n",
      "Dependents                    \n",
      "No          0.687209  0.312791\n",
      "Yes         0.845498  0.154502\n"
     ]
    }
   ],
   "source": [
    "dependents_status_churn = churn_by_column(churn_df, 'Dependents')\n",
    "print(dependents_status_churn)"
   ]
  },
  {
   "cell_type": "code",
   "execution_count": 16,
   "id": "371211bb-f9b9-42b1-88f9-7f9469701331",
   "metadata": {},
   "outputs": [
    {
     "name": "stdout",
     "output_type": "stream",
     "text": [
      "Churn                No       Yes\n",
      "SeniorCitizen                    \n",
      "0              0.763938  0.236062\n",
      "1              0.583187  0.416813\n"
     ]
    }
   ],
   "source": [
    "senior_citizen_churn = churn_by_column(churn_df, 'SeniorCitizen')\n",
    "print(senior_citizen_churn)"
   ]
  },
  {
   "cell_type": "markdown",
   "id": "549db697-6124-4871-8892-7d2357e3d350",
   "metadata": {},
   "source": [
    "**<h3 style=\"color:black;\">4.2 Churn by Service Usage</h3>**"
   ]
  },
  {
   "cell_type": "code",
   "execution_count": 17,
   "id": "2ff2fabc-be2e-4ac2-8649-446b731c8aa1",
   "metadata": {},
   "outputs": [
    {
     "data": {
      "text/html": [
       "<div>\n",
       "<style scoped>\n",
       "    .dataframe tbody tr th:only-of-type {\n",
       "        vertical-align: middle;\n",
       "    }\n",
       "\n",
       "    .dataframe tbody tr th {\n",
       "        vertical-align: top;\n",
       "    }\n",
       "\n",
       "    .dataframe thead th {\n",
       "        text-align: right;\n",
       "    }\n",
       "</style>\n",
       "<table border=\"1\" class=\"dataframe\">\n",
       "  <thead>\n",
       "    <tr style=\"text-align: right;\">\n",
       "      <th>Churn</th>\n",
       "      <th>No</th>\n",
       "      <th>Yes</th>\n",
       "    </tr>\n",
       "    <tr>\n",
       "      <th>StreamingTV</th>\n",
       "      <th></th>\n",
       "      <th></th>\n",
       "    </tr>\n",
       "  </thead>\n",
       "  <tbody>\n",
       "    <tr>\n",
       "      <th>No</th>\n",
       "      <td>0.664769</td>\n",
       "      <td>0.335231</td>\n",
       "    </tr>\n",
       "    <tr>\n",
       "      <th>No internet service</th>\n",
       "      <td>0.925950</td>\n",
       "      <td>0.074050</td>\n",
       "    </tr>\n",
       "    <tr>\n",
       "      <th>Yes</th>\n",
       "      <td>0.699298</td>\n",
       "      <td>0.300702</td>\n",
       "    </tr>\n",
       "  </tbody>\n",
       "</table>\n",
       "</div>"
      ],
      "text/plain": [
       "Churn                      No       Yes\n",
       "StreamingTV                            \n",
       "No                   0.664769  0.335231\n",
       "No internet service  0.925950  0.074050\n",
       "Yes                  0.699298  0.300702"
      ]
     },
     "execution_count": 17,
     "metadata": {},
     "output_type": "execute_result"
    }
   ],
   "source": [
    "churn_by_column(churn_df, 'StreamingTV')"
   ]
  },
  {
   "cell_type": "code",
   "execution_count": 18,
   "id": "17ecae27-a277-4880-bb6a-3daaf2361fb1",
   "metadata": {},
   "outputs": [
    {
     "data": {
      "text/html": [
       "<div>\n",
       "<style scoped>\n",
       "    .dataframe tbody tr th:only-of-type {\n",
       "        vertical-align: middle;\n",
       "    }\n",
       "\n",
       "    .dataframe tbody tr th {\n",
       "        vertical-align: top;\n",
       "    }\n",
       "\n",
       "    .dataframe thead th {\n",
       "        text-align: right;\n",
       "    }\n",
       "</style>\n",
       "<table border=\"1\" class=\"dataframe\">\n",
       "  <thead>\n",
       "    <tr style=\"text-align: right;\">\n",
       "      <th>Churn</th>\n",
       "      <th>No</th>\n",
       "      <th>Yes</th>\n",
       "    </tr>\n",
       "    <tr>\n",
       "      <th>InternetService</th>\n",
       "      <th></th>\n",
       "      <th></th>\n",
       "    </tr>\n",
       "  </thead>\n",
       "  <tbody>\n",
       "    <tr>\n",
       "      <th>DSL</th>\n",
       "      <td>0.810409</td>\n",
       "      <td>0.189591</td>\n",
       "    </tr>\n",
       "    <tr>\n",
       "      <th>Fiber optic</th>\n",
       "      <td>0.581072</td>\n",
       "      <td>0.418928</td>\n",
       "    </tr>\n",
       "    <tr>\n",
       "      <th>No</th>\n",
       "      <td>0.925950</td>\n",
       "      <td>0.074050</td>\n",
       "    </tr>\n",
       "  </tbody>\n",
       "</table>\n",
       "</div>"
      ],
      "text/plain": [
       "Churn                  No       Yes\n",
       "InternetService                    \n",
       "DSL              0.810409  0.189591\n",
       "Fiber optic      0.581072  0.418928\n",
       "No               0.925950  0.074050"
      ]
     },
     "execution_count": 18,
     "metadata": {},
     "output_type": "execute_result"
    }
   ],
   "source": [
    "churn_by_column(churn_df, 'InternetService')"
   ]
  },
  {
   "cell_type": "code",
   "execution_count": 19,
   "id": "6d4b432f-1fa3-4282-b8f5-b45d34bfbe09",
   "metadata": {},
   "outputs": [
    {
     "data": {
      "text/html": [
       "<div>\n",
       "<style scoped>\n",
       "    .dataframe tbody tr th:only-of-type {\n",
       "        vertical-align: middle;\n",
       "    }\n",
       "\n",
       "    .dataframe tbody tr th {\n",
       "        vertical-align: top;\n",
       "    }\n",
       "\n",
       "    .dataframe thead th {\n",
       "        text-align: right;\n",
       "    }\n",
       "</style>\n",
       "<table border=\"1\" class=\"dataframe\">\n",
       "  <thead>\n",
       "    <tr style=\"text-align: right;\">\n",
       "      <th>Churn</th>\n",
       "      <th>No</th>\n",
       "      <th>Yes</th>\n",
       "    </tr>\n",
       "    <tr>\n",
       "      <th>OnlineSecurity</th>\n",
       "      <th></th>\n",
       "      <th></th>\n",
       "    </tr>\n",
       "  </thead>\n",
       "  <tbody>\n",
       "    <tr>\n",
       "      <th>No</th>\n",
       "      <td>0.582333</td>\n",
       "      <td>0.417667</td>\n",
       "    </tr>\n",
       "    <tr>\n",
       "      <th>No internet service</th>\n",
       "      <td>0.925950</td>\n",
       "      <td>0.074050</td>\n",
       "    </tr>\n",
       "    <tr>\n",
       "      <th>Yes</th>\n",
       "      <td>0.853888</td>\n",
       "      <td>0.146112</td>\n",
       "    </tr>\n",
       "  </tbody>\n",
       "</table>\n",
       "</div>"
      ],
      "text/plain": [
       "Churn                      No       Yes\n",
       "OnlineSecurity                         \n",
       "No                   0.582333  0.417667\n",
       "No internet service  0.925950  0.074050\n",
       "Yes                  0.853888  0.146112"
      ]
     },
     "execution_count": 19,
     "metadata": {},
     "output_type": "execute_result"
    }
   ],
   "source": [
    "churn_by_column(churn_df, 'OnlineSecurity')"
   ]
  },
  {
   "cell_type": "code",
   "execution_count": 20,
   "id": "961f3c1c-56c3-474a-9809-2df2a06d8672",
   "metadata": {},
   "outputs": [
    {
     "data": {
      "text/html": [
       "<div>\n",
       "<style scoped>\n",
       "    .dataframe tbody tr th:only-of-type {\n",
       "        vertical-align: middle;\n",
       "    }\n",
       "\n",
       "    .dataframe tbody tr th {\n",
       "        vertical-align: top;\n",
       "    }\n",
       "\n",
       "    .dataframe thead th {\n",
       "        text-align: right;\n",
       "    }\n",
       "</style>\n",
       "<table border=\"1\" class=\"dataframe\">\n",
       "  <thead>\n",
       "    <tr style=\"text-align: right;\">\n",
       "      <th>Churn</th>\n",
       "      <th>No</th>\n",
       "      <th>Yes</th>\n",
       "    </tr>\n",
       "    <tr>\n",
       "      <th>DeviceProtection</th>\n",
       "      <th></th>\n",
       "      <th></th>\n",
       "    </tr>\n",
       "  </thead>\n",
       "  <tbody>\n",
       "    <tr>\n",
       "      <th>No</th>\n",
       "      <td>0.608724</td>\n",
       "      <td>0.391276</td>\n",
       "    </tr>\n",
       "    <tr>\n",
       "      <th>No internet service</th>\n",
       "      <td>0.925950</td>\n",
       "      <td>0.074050</td>\n",
       "    </tr>\n",
       "    <tr>\n",
       "      <th>Yes</th>\n",
       "      <td>0.774979</td>\n",
       "      <td>0.225021</td>\n",
       "    </tr>\n",
       "  </tbody>\n",
       "</table>\n",
       "</div>"
      ],
      "text/plain": [
       "Churn                      No       Yes\n",
       "DeviceProtection                       \n",
       "No                   0.608724  0.391276\n",
       "No internet service  0.925950  0.074050\n",
       "Yes                  0.774979  0.225021"
      ]
     },
     "execution_count": 20,
     "metadata": {},
     "output_type": "execute_result"
    }
   ],
   "source": [
    "churn_by_column(churn_df, 'DeviceProtection')"
   ]
  },
  {
   "cell_type": "markdown",
   "id": "61715fbc-aa7d-411b-b11f-4ea5dae58cf0",
   "metadata": {},
   "source": [
    "**<h3 style=\"color:black;\">4.3 Churn by Billing Type and Contract Details</h3>**"
   ]
  },
  {
   "cell_type": "code",
   "execution_count": 21,
   "id": "6f82073b-7678-48e0-a761-e70c164f54d2",
   "metadata": {},
   "outputs": [
    {
     "data": {
      "text/html": [
       "<div>\n",
       "<style scoped>\n",
       "    .dataframe tbody tr th:only-of-type {\n",
       "        vertical-align: middle;\n",
       "    }\n",
       "\n",
       "    .dataframe tbody tr th {\n",
       "        vertical-align: top;\n",
       "    }\n",
       "\n",
       "    .dataframe thead th {\n",
       "        text-align: right;\n",
       "    }\n",
       "</style>\n",
       "<table border=\"1\" class=\"dataframe\">\n",
       "  <thead>\n",
       "    <tr style=\"text-align: right;\">\n",
       "      <th>Churn</th>\n",
       "      <th>No</th>\n",
       "      <th>Yes</th>\n",
       "    </tr>\n",
       "    <tr>\n",
       "      <th>tenure</th>\n",
       "      <th></th>\n",
       "      <th></th>\n",
       "    </tr>\n",
       "  </thead>\n",
       "  <tbody>\n",
       "    <tr>\n",
       "      <th>0</th>\n",
       "      <td>1.000000</td>\n",
       "      <td>0.000000</td>\n",
       "    </tr>\n",
       "    <tr>\n",
       "      <th>1</th>\n",
       "      <td>0.380098</td>\n",
       "      <td>0.619902</td>\n",
       "    </tr>\n",
       "    <tr>\n",
       "      <th>2</th>\n",
       "      <td>0.483193</td>\n",
       "      <td>0.516807</td>\n",
       "    </tr>\n",
       "    <tr>\n",
       "      <th>3</th>\n",
       "      <td>0.530000</td>\n",
       "      <td>0.470000</td>\n",
       "    </tr>\n",
       "    <tr>\n",
       "      <th>4</th>\n",
       "      <td>0.528409</td>\n",
       "      <td>0.471591</td>\n",
       "    </tr>\n",
       "    <tr>\n",
       "      <th>...</th>\n",
       "      <td>...</td>\n",
       "      <td>...</td>\n",
       "    </tr>\n",
       "    <tr>\n",
       "      <th>68</th>\n",
       "      <td>0.910000</td>\n",
       "      <td>0.090000</td>\n",
       "    </tr>\n",
       "    <tr>\n",
       "      <th>69</th>\n",
       "      <td>0.915789</td>\n",
       "      <td>0.084211</td>\n",
       "    </tr>\n",
       "    <tr>\n",
       "      <th>70</th>\n",
       "      <td>0.907563</td>\n",
       "      <td>0.092437</td>\n",
       "    </tr>\n",
       "    <tr>\n",
       "      <th>71</th>\n",
       "      <td>0.964706</td>\n",
       "      <td>0.035294</td>\n",
       "    </tr>\n",
       "    <tr>\n",
       "      <th>72</th>\n",
       "      <td>0.983425</td>\n",
       "      <td>0.016575</td>\n",
       "    </tr>\n",
       "  </tbody>\n",
       "</table>\n",
       "<p>73 rows × 2 columns</p>\n",
       "</div>"
      ],
      "text/plain": [
       "Churn         No       Yes\n",
       "tenure                    \n",
       "0       1.000000  0.000000\n",
       "1       0.380098  0.619902\n",
       "2       0.483193  0.516807\n",
       "3       0.530000  0.470000\n",
       "4       0.528409  0.471591\n",
       "...          ...       ...\n",
       "68      0.910000  0.090000\n",
       "69      0.915789  0.084211\n",
       "70      0.907563  0.092437\n",
       "71      0.964706  0.035294\n",
       "72      0.983425  0.016575\n",
       "\n",
       "[73 rows x 2 columns]"
      ]
     },
     "execution_count": 21,
     "metadata": {},
     "output_type": "execute_result"
    }
   ],
   "source": [
    "churn_by_column(churn_df, 'tenure').fillna(0)"
   ]
  },
  {
   "cell_type": "code",
   "execution_count": 22,
   "id": "416321a5-34f3-44c7-a700-1112409d2028",
   "metadata": {},
   "outputs": [
    {
     "data": {
      "text/html": [
       "<div>\n",
       "<style scoped>\n",
       "    .dataframe tbody tr th:only-of-type {\n",
       "        vertical-align: middle;\n",
       "    }\n",
       "\n",
       "    .dataframe tbody tr th {\n",
       "        vertical-align: top;\n",
       "    }\n",
       "\n",
       "    .dataframe thead th {\n",
       "        text-align: right;\n",
       "    }\n",
       "</style>\n",
       "<table border=\"1\" class=\"dataframe\">\n",
       "  <thead>\n",
       "    <tr style=\"text-align: right;\">\n",
       "      <th>Churn</th>\n",
       "      <th>No</th>\n",
       "      <th>Yes</th>\n",
       "    </tr>\n",
       "    <tr>\n",
       "      <th>Contract</th>\n",
       "      <th></th>\n",
       "      <th></th>\n",
       "    </tr>\n",
       "  </thead>\n",
       "  <tbody>\n",
       "    <tr>\n",
       "      <th>Month-to-month</th>\n",
       "      <td>0.572903</td>\n",
       "      <td>0.427097</td>\n",
       "    </tr>\n",
       "    <tr>\n",
       "      <th>One year</th>\n",
       "      <td>0.887305</td>\n",
       "      <td>0.112695</td>\n",
       "    </tr>\n",
       "    <tr>\n",
       "      <th>Two year</th>\n",
       "      <td>0.971681</td>\n",
       "      <td>0.028319</td>\n",
       "    </tr>\n",
       "  </tbody>\n",
       "</table>\n",
       "</div>"
      ],
      "text/plain": [
       "Churn                 No       Yes\n",
       "Contract                          \n",
       "Month-to-month  0.572903  0.427097\n",
       "One year        0.887305  0.112695\n",
       "Two year        0.971681  0.028319"
      ]
     },
     "execution_count": 22,
     "metadata": {},
     "output_type": "execute_result"
    }
   ],
   "source": [
    "churn_by_column(churn_df, 'Contract')"
   ]
  },
  {
   "cell_type": "code",
   "execution_count": 23,
   "id": "36f4cad4-0e0c-4e0a-b44c-3ed26c13c033",
   "metadata": {},
   "outputs": [
    {
     "data": {
      "text/html": [
       "<div>\n",
       "<style scoped>\n",
       "    .dataframe tbody tr th:only-of-type {\n",
       "        vertical-align: middle;\n",
       "    }\n",
       "\n",
       "    .dataframe tbody tr th {\n",
       "        vertical-align: top;\n",
       "    }\n",
       "\n",
       "    .dataframe thead th {\n",
       "        text-align: right;\n",
       "    }\n",
       "</style>\n",
       "<table border=\"1\" class=\"dataframe\">\n",
       "  <thead>\n",
       "    <tr style=\"text-align: right;\">\n",
       "      <th>Churn</th>\n",
       "      <th>No</th>\n",
       "      <th>Yes</th>\n",
       "    </tr>\n",
       "    <tr>\n",
       "      <th>MonthlyCharges</th>\n",
       "      <th></th>\n",
       "      <th></th>\n",
       "    </tr>\n",
       "  </thead>\n",
       "  <tbody>\n",
       "    <tr>\n",
       "      <th>18.25</th>\n",
       "      <td>1.0</td>\n",
       "      <td>0.0</td>\n",
       "    </tr>\n",
       "    <tr>\n",
       "      <th>18.40</th>\n",
       "      <td>1.0</td>\n",
       "      <td>0.0</td>\n",
       "    </tr>\n",
       "    <tr>\n",
       "      <th>18.55</th>\n",
       "      <td>1.0</td>\n",
       "      <td>0.0</td>\n",
       "    </tr>\n",
       "    <tr>\n",
       "      <th>18.70</th>\n",
       "      <td>1.0</td>\n",
       "      <td>0.0</td>\n",
       "    </tr>\n",
       "    <tr>\n",
       "      <th>18.75</th>\n",
       "      <td>1.0</td>\n",
       "      <td>0.0</td>\n",
       "    </tr>\n",
       "    <tr>\n",
       "      <th>...</th>\n",
       "      <td>...</td>\n",
       "      <td>...</td>\n",
       "    </tr>\n",
       "    <tr>\n",
       "      <th>118.20</th>\n",
       "      <td>1.0</td>\n",
       "      <td>0.0</td>\n",
       "    </tr>\n",
       "    <tr>\n",
       "      <th>118.35</th>\n",
       "      <td>0.0</td>\n",
       "      <td>1.0</td>\n",
       "    </tr>\n",
       "    <tr>\n",
       "      <th>118.60</th>\n",
       "      <td>1.0</td>\n",
       "      <td>0.0</td>\n",
       "    </tr>\n",
       "    <tr>\n",
       "      <th>118.65</th>\n",
       "      <td>1.0</td>\n",
       "      <td>0.0</td>\n",
       "    </tr>\n",
       "    <tr>\n",
       "      <th>118.75</th>\n",
       "      <td>1.0</td>\n",
       "      <td>0.0</td>\n",
       "    </tr>\n",
       "  </tbody>\n",
       "</table>\n",
       "<p>1585 rows × 2 columns</p>\n",
       "</div>"
      ],
      "text/plain": [
       "Churn            No  Yes\n",
       "MonthlyCharges          \n",
       "18.25           1.0  0.0\n",
       "18.40           1.0  0.0\n",
       "18.55           1.0  0.0\n",
       "18.70           1.0  0.0\n",
       "18.75           1.0  0.0\n",
       "...             ...  ...\n",
       "118.20          1.0  0.0\n",
       "118.35          0.0  1.0\n",
       "118.60          1.0  0.0\n",
       "118.65          1.0  0.0\n",
       "118.75          1.0  0.0\n",
       "\n",
       "[1585 rows x 2 columns]"
      ]
     },
     "execution_count": 23,
     "metadata": {},
     "output_type": "execute_result"
    }
   ],
   "source": [
    "churn_by_column(churn_df, 'MonthlyCharges').fillna(0)"
   ]
  },
  {
   "cell_type": "code",
   "execution_count": 24,
   "id": "749c0309-213d-4050-9c46-d121e04b1451",
   "metadata": {},
   "outputs": [
    {
     "data": {
      "text/html": [
       "<div>\n",
       "<style scoped>\n",
       "    .dataframe tbody tr th:only-of-type {\n",
       "        vertical-align: middle;\n",
       "    }\n",
       "\n",
       "    .dataframe tbody tr th {\n",
       "        vertical-align: top;\n",
       "    }\n",
       "\n",
       "    .dataframe thead th {\n",
       "        text-align: right;\n",
       "    }\n",
       "</style>\n",
       "<table border=\"1\" class=\"dataframe\">\n",
       "  <thead>\n",
       "    <tr style=\"text-align: right;\">\n",
       "      <th>Churn</th>\n",
       "      <th>No</th>\n",
       "      <th>Yes</th>\n",
       "    </tr>\n",
       "    <tr>\n",
       "      <th>PaymentMethod</th>\n",
       "      <th></th>\n",
       "      <th></th>\n",
       "    </tr>\n",
       "  </thead>\n",
       "  <tbody>\n",
       "    <tr>\n",
       "      <th>Bank transfer (automatic)</th>\n",
       "      <td>0.832902</td>\n",
       "      <td>0.167098</td>\n",
       "    </tr>\n",
       "    <tr>\n",
       "      <th>Credit card (automatic)</th>\n",
       "      <td>0.847569</td>\n",
       "      <td>0.152431</td>\n",
       "    </tr>\n",
       "    <tr>\n",
       "      <th>Electronic check</th>\n",
       "      <td>0.547146</td>\n",
       "      <td>0.452854</td>\n",
       "    </tr>\n",
       "    <tr>\n",
       "      <th>Mailed check</th>\n",
       "      <td>0.808933</td>\n",
       "      <td>0.191067</td>\n",
       "    </tr>\n",
       "  </tbody>\n",
       "</table>\n",
       "</div>"
      ],
      "text/plain": [
       "Churn                            No       Yes\n",
       "PaymentMethod                                \n",
       "Bank transfer (automatic)  0.832902  0.167098\n",
       "Credit card (automatic)    0.847569  0.152431\n",
       "Electronic check           0.547146  0.452854\n",
       "Mailed check               0.808933  0.191067"
      ]
     },
     "execution_count": 24,
     "metadata": {},
     "output_type": "execute_result"
    }
   ],
   "source": [
    "churn_by_column(churn_df, 'PaymentMethod')"
   ]
  },
  {
   "cell_type": "code",
   "execution_count": 25,
   "id": "d45f4c1e-7b3e-4b59-83fc-0ff41f4695bd",
   "metadata": {},
   "outputs": [],
   "source": [
    "binary_columns = ['Partner', 'Dependents', 'Churn', 'PaperlessBilling', 'PhoneService']\n",
    "for col in binary_columns:\n",
    "    churn_df[col] = churn_df[col].map({'Yes': 1, 'No': 0})"
   ]
  },
  {
   "cell_type": "markdown",
   "id": "f3f831ee-05e3-4ee8-8569-b214a150a3c1",
   "metadata": {},
   "source": [
    "<h2 style=\"color:darkcyan;\">Key Findings from EDA</h2>\n",
    "\n",
    "**Demographics**  \n",
    "  - Senior citizens have a higher churn rate (about 42%) compared to non-seniors (about 24%).  \n",
    "  - Having a partner or dependents appears to slightly reduce churn."
   ]
  },
  {
   "cell_type": "code",
   "execution_count": 26,
   "id": "4c93f88f-3dda-4347-8ef3-32d757bdcd2e",
   "metadata": {},
   "outputs": [
    {
     "data": {
      "image/png": "[encoded data removed]",
      "text/plain": [
       "<Figure size 640x480 with 1 Axes>"
      ]
     },
     "metadata": {},
     "output_type": "display_data"
    }
   ],
   "source": [
    "sns.barplot(data=churn_df, x='SeniorCitizen', y='Churn')\n",
    "plt.title(\"Churn Rate by Senior Citizen Status\")\n",
    "plt.xticks([0, 1], ['Not Senior', 'Senior'])\n",
    "plt.ylabel('Churn Rate')\n",
    "plt.show()"
   ]
  },
  {
   "cell_type": "code",
   "execution_count": 27,
   "id": "924d8dfc-6dad-46dc-95a0-fb6f12cacedb",
   "metadata": {},
   "outputs": [
    {
     "data": {
      "image/png": "[encoded data removed]",
      "text/plain": [
       "<Figure size 1200x500 with 2 Axes>"
      ]
     },
     "metadata": {},
     "output_type": "display_data"
    }
   ],
   "source": [
    "fig, axes = plt.subplots(1, 2, figsize=(12, 5))\n",
    "\n",
    "sns.barplot(data=churn_df, x='Partner', y='Churn', ax=axes[0])\n",
    "axes[0].set_title(\"Churn by Partner Status\")\n",
    "\n",
    "sns.barplot(data=churn_df, x='Dependents', y='Churn', ax=axes[1])\n",
    "axes[1].set_title(\"Churn by Dependents\")\n",
    "plt.tight_layout()\n",
    "plt.show()"
   ]
  },
  {
   "cell_type": "markdown",
   "id": "f95b936d-39fa-45d0-b80f-a63482c63e31",
   "metadata": {},
   "source": [
    "**Service Usage**  \n",
    "  - Customers without internet service churn far less than those that do.  \n",
    "  - Lack of OnlineSecurity and TechSupport is associated with higher churn."
   ]
  },
  {
   "cell_type": "code",
   "execution_count": 28,
   "id": "d0f3258d-198f-4aa6-a5e6-6903695a56d0",
   "metadata": {},
   "outputs": [
    {
     "name": "stderr",
     "output_type": "stream",
     "text": [
      "/var/folders/z8/k_38h5950zvflgczl0bx3g2r0000gn/T/ipykernel_93272/3074269527.py:6: FutureWarning: \n",
      "\n",
      "Passing `palette` without assigning `hue` is deprecated and will be removed in v0.14.0. Assign the `y` variable to `hue` and set `legend=False` for the same effect.\n",
      "\n",
      "  sns.barplot(x=churn_by_internet.values, y=churn_by_internet.index, palette='Blues_d')\n"
     ]
    },
    {
     "data": {
      "image/png": "[encoded data removed]",
      "text/plain": [
       "<Figure size 800x500 with 1 Axes>"
      ]
     },
     "metadata": {},
     "output_type": "display_data"
    }
   ],
   "source": [
    "# Calculate churn rate by InternetService\n",
    "churn_by_internet = churn_df.groupby('InternetService')['Churn'].mean().sort_values()\n",
    "\n",
    "# Plot\n",
    "plt.figure(figsize=(8, 5))\n",
    "sns.barplot(x=churn_by_internet.values, y=churn_by_internet.index, palette='Blues_d')\n",
    "plt.title(\"Average Churn Rate by Internet Service Type\")\n",
    "plt.xlabel(\"Churn Rate\")\n",
    "plt.ylabel(\"Internet Service\")\n",
    "plt.xlim(0, 1)\n",
    "plt.show()"
   ]
  },
  {
   "cell_type": "code",
   "execution_count": 29,
   "id": "d8a89515-6d6c-4c7f-bcb7-d17b5320d06d",
   "metadata": {
    "scrolled": true
   },
   "outputs": [
    {
     "data": {
      "image/png": "[encoded data removed]",
      "text/plain": [
       "<Figure size 1200x500 with 2 Axes>"
      ]
     },
     "metadata": {},
     "output_type": "display_data"
    }
   ],
   "source": [
    "fig, axes = plt.subplots(1, 2, figsize=(12, 5))\n",
    "\n",
    "# OnlineSecurity\n",
    "sns.barplot(data=churn_df, x='OnlineSecurity', y='Churn', ax=axes[0])\n",
    "axes[0].set_title(\"Churn by OnlineSecurity\")\n",
    "axes[0].set_xticks([0, 1])\n",
    "axes[0].set_xticklabels(['No', 'Yes'])\n",
    "axes[0].set_ylabel('Churn Rate')\n",
    "\n",
    "# TechSupport\n",
    "sns.barplot(data=churn_df, x='TechSupport', y='Churn', ax=axes[1])\n",
    "axes[1].set_title(\"Churn by TechSupport\")\n",
    "axes[1].set_xticks([0, 1])\n",
    "axes[1].set_xticklabels(['No', 'Yes'])\n",
    "axes[1].set_ylabel('')\n",
    "\n",
    "plt.tight_layout()\n",
    "plt.show()"
   ]
  },
  {
   "cell_type": "markdown",
   "id": "7cf1615f-802a-479b-a368-5c0ca3cdc041",
   "metadata": {},
   "source": [
    "**Billing & Contract**\n",
    "  - Month-to-month contracts show the highest churn rates.  \n",
    "  - Customers paying via Electronic Check churn significantly more than those using auto-pay options."
   ]
  },
  {
   "cell_type": "code",
   "execution_count": 30,
   "id": "f02bca9f-e12c-4a64-ad41-4bbe930d4006",
   "metadata": {},
   "outputs": [
    {
     "name": "stderr",
     "output_type": "stream",
     "text": [
      "/var/folders/z8/k_38h5950zvflgczl0bx3g2r0000gn/T/ipykernel_93272/1354151026.py:6: FutureWarning: \n",
      "\n",
      "Passing `palette` without assigning `hue` is deprecated and will be removed in v0.14.0. Assign the `y` variable to `hue` and set `legend=False` for the same effect.\n",
      "\n",
      "  sns.barplot(x=churn_by_contract.values, y=churn_by_contract.index, palette='Blues_d')\n"
     ]
    },
    {
     "data": {
      "image/png": "[encoded data removed]",
      "text/plain": [
       "<Figure size 800x500 with 1 Axes>"
      ]
     },
     "metadata": {},
     "output_type": "display_data"
    }
   ],
   "source": [
    "# Calculate churn rate by Contract\n",
    "churn_by_contract = churn_df.groupby('Contract')['Churn'].mean().sort_values()\n",
    "\n",
    "# Plot\n",
    "plt.figure(figsize=(8, 5))\n",
    "sns.barplot(x=churn_by_contract.values, y=churn_by_contract.index, palette='Blues_d')\n",
    "plt.title(\"Average Churn Rate by Contract Type\")\n",
    "plt.xlabel(\"Churn Rate\")\n",
    "plt.ylabel(\"Contract Type\")\n",
    "plt.xlim(0, 1)\n",
    "plt.show()"
   ]
  },
  {
   "cell_type": "code",
   "execution_count": 31,
   "id": "94466945-4315-4698-bf6a-73d8885c4870",
   "metadata": {},
   "outputs": [
    {
     "name": "stderr",
     "output_type": "stream",
     "text": [
      "/var/folders/z8/k_38h5950zvflgczl0bx3g2r0000gn/T/ipykernel_93272/965503213.py:6: FutureWarning: \n",
      "\n",
      "Passing `palette` without assigning `hue` is deprecated and will be removed in v0.14.0. Assign the `y` variable to `hue` and set `legend=False` for the same effect.\n",
      "\n",
      "  sns.barplot(x=churn_by_payment_method.values, y=churn_by_payment_method.index, palette='Blues_d')\n"
     ]
    },
    {
     "data": {
      "image/png": "[encoded data removed]",
      "text/plain": [
       "<Figure size 800x500 with 1 Axes>"
      ]
     },
     "metadata": {},
     "output_type": "display_data"
    }
   ],
   "source": [
    "# Calculate churn rate by Payment Method\n",
    "churn_by_payment_method = churn_df.groupby('PaymentMethod')['Churn'].mean().sort_values()\n",
    "\n",
    "# Plot\n",
    "plt.figure(figsize=(8, 5))\n",
    "sns.barplot(x=churn_by_payment_method.values, y=churn_by_payment_method.index, palette='Blues_d')\n",
    "plt.title(\"Average Churn Rate by Payment Method\")\n",
    "plt.xlabel(\"Churn Rate\")\n",
    "plt.ylabel(\"Payment Method\")\n",
    "plt.xlim(0, 1)\n",
    "plt.show()"
   ]
  },
  {
   "cell_type": "markdown",
   "id": "736c18ae-754c-4543-a3e0-6028c4f9adbc",
   "metadata": {},
   "source": [
    "---\n",
    "<h2 style=\"color:darkcyan;\">5. Feature Engineering</h2>"
   ]
  },
  {
   "cell_type": "markdown",
   "id": "e4088065-b249-4a17-826b-33604f77fdde",
   "metadata": {},
   "source": [
    "In this section, we performed OneHot Encoding on the categorical columns"
   ]
  },
  {
   "cell_type": "code",
   "execution_count": 32,
   "id": "daf579f2-8d1c-42a7-8285-e67977c2857d",
   "metadata": {},
   "outputs": [],
   "source": [
    "# create a list of all the categorical fields\n",
    "categorical_cols = [col for col in churn_df.select_dtypes(include='object').columns\n",
    "                    if col not in ['customerID', 'Churn']]"
   ]
  },
  {
   "cell_type": "code",
   "execution_count": 33,
   "id": "302830a8-8c93-4041-b41b-c774eb0c9ede",
   "metadata": {},
   "outputs": [],
   "source": [
    "churn_df = pd.get_dummies(churn_df, columns=categorical_cols, drop_first=True)"
   ]
  },
  {
   "cell_type": "code",
   "execution_count": 34,
   "id": "e3f4ba7c-e3b9-4132-91ed-41788d373f30",
   "metadata": {},
   "outputs": [],
   "source": [
    "# Convert all boolean columns to integers (0 and 1) for standardization\n",
    "churn_df = churn_df.astype({col: int for col in churn_df.columns if churn_df[col].dtype == 'bool'})"
   ]
  },
  {
   "cell_type": "code",
   "execution_count": 35,
   "id": "62169b92-81e9-45fe-9dc4-2c233f64347f",
   "metadata": {},
   "outputs": [
    {
     "data": {
      "text/html": [
       "<div>\n",
       "<style scoped>\n",
       "    .dataframe tbody tr th:only-of-type {\n",
       "        vertical-align: middle;\n",
       "    }\n",
       "\n",
       "    .dataframe tbody tr th {\n",
       "        vertical-align: top;\n",
       "    }\n",
       "\n",
       "    .dataframe thead th {\n",
       "        text-align: right;\n",
       "    }\n",
       "</style>\n",
       "<table border=\"1\" class=\"dataframe\">\n",
       "  <thead>\n",
       "    <tr style=\"text-align: right;\">\n",
       "      <th></th>\n",
       "      <th>customerID</th>\n",
       "      <th>SeniorCitizen</th>\n",
       "      <th>Partner</th>\n",
       "      <th>Dependents</th>\n",
       "      <th>tenure</th>\n",
       "      <th>PhoneService</th>\n",
       "      <th>PaperlessBilling</th>\n",
       "      <th>MonthlyCharges</th>\n",
       "      <th>TotalCharges</th>\n",
       "      <th>Churn</th>\n",
       "      <th>...</th>\n",
       "      <th>TechSupport_Yes</th>\n",
       "      <th>StreamingTV_No internet service</th>\n",
       "      <th>StreamingTV_Yes</th>\n",
       "      <th>StreamingMovies_No internet service</th>\n",
       "      <th>StreamingMovies_Yes</th>\n",
       "      <th>Contract_One year</th>\n",
       "      <th>Contract_Two year</th>\n",
       "      <th>PaymentMethod_Credit card (automatic)</th>\n",
       "      <th>PaymentMethod_Electronic check</th>\n",
       "      <th>PaymentMethod_Mailed check</th>\n",
       "    </tr>\n",
       "  </thead>\n",
       "  <tbody>\n",
       "    <tr>\n",
       "      <th>0</th>\n",
       "      <td>7590-VHVEG</td>\n",
       "      <td>0</td>\n",
       "      <td>1</td>\n",
       "      <td>0</td>\n",
       "      <td>1</td>\n",
       "      <td>0</td>\n",
       "      <td>1</td>\n",
       "      <td>29.85</td>\n",
       "      <td>29.85</td>\n",
       "      <td>0</td>\n",
       "      <td>...</td>\n",
       "      <td>0</td>\n",
       "      <td>0</td>\n",
       "      <td>0</td>\n",
       "      <td>0</td>\n",
       "      <td>0</td>\n",
       "      <td>0</td>\n",
       "      <td>0</td>\n",
       "      <td>0</td>\n",
       "      <td>1</td>\n",
       "      <td>0</td>\n",
       "    </tr>\n",
       "    <tr>\n",
       "      <th>1</th>\n",
       "      <td>5575-GNVDE</td>\n",
       "      <td>0</td>\n",
       "      <td>0</td>\n",
       "      <td>0</td>\n",
       "      <td>34</td>\n",
       "      <td>1</td>\n",
       "      <td>0</td>\n",
       "      <td>56.95</td>\n",
       "      <td>1889.50</td>\n",
       "      <td>0</td>\n",
       "      <td>...</td>\n",
       "      <td>0</td>\n",
       "      <td>0</td>\n",
       "      <td>0</td>\n",
       "      <td>0</td>\n",
       "      <td>0</td>\n",
       "      <td>1</td>\n",
       "      <td>0</td>\n",
       "      <td>0</td>\n",
       "      <td>0</td>\n",
       "      <td>1</td>\n",
       "    </tr>\n",
       "    <tr>\n",
       "      <th>2</th>\n",
       "      <td>3668-QPYBK</td>\n",
       "      <td>0</td>\n",
       "      <td>0</td>\n",
       "      <td>0</td>\n",
       "      <td>2</td>\n",
       "      <td>1</td>\n",
       "      <td>1</td>\n",
       "      <td>53.85</td>\n",
       "      <td>108.15</td>\n",
       "      <td>1</td>\n",
       "      <td>...</td>\n",
       "      <td>0</td>\n",
       "      <td>0</td>\n",
       "      <td>0</td>\n",
       "      <td>0</td>\n",
       "      <td>0</td>\n",
       "      <td>0</td>\n",
       "      <td>0</td>\n",
       "      <td>0</td>\n",
       "      <td>0</td>\n",
       "      <td>1</td>\n",
       "    </tr>\n",
       "    <tr>\n",
       "      <th>3</th>\n",
       "      <td>7795-CFOCW</td>\n",
       "      <td>0</td>\n",
       "      <td>0</td>\n",
       "      <td>0</td>\n",
       "      <td>45</td>\n",
       "      <td>0</td>\n",
       "      <td>0</td>\n",
       "      <td>42.30</td>\n",
       "      <td>1840.75</td>\n",
       "      <td>0</td>\n",
       "      <td>...</td>\n",
       "      <td>1</td>\n",
       "      <td>0</td>\n",
       "      <td>0</td>\n",
       "      <td>0</td>\n",
       "      <td>0</td>\n",
       "      <td>1</td>\n",
       "      <td>0</td>\n",
       "      <td>0</td>\n",
       "      <td>0</td>\n",
       "      <td>0</td>\n",
       "    </tr>\n",
       "    <tr>\n",
       "      <th>4</th>\n",
       "      <td>9237-HQITU</td>\n",
       "      <td>0</td>\n",
       "      <td>0</td>\n",
       "      <td>0</td>\n",
       "      <td>2</td>\n",
       "      <td>1</td>\n",
       "      <td>1</td>\n",
       "      <td>70.70</td>\n",
       "      <td>151.65</td>\n",
       "      <td>1</td>\n",
       "      <td>...</td>\n",
       "      <td>0</td>\n",
       "      <td>0</td>\n",
       "      <td>0</td>\n",
       "      <td>0</td>\n",
       "      <td>0</td>\n",
       "      <td>0</td>\n",
       "      <td>0</td>\n",
       "      <td>0</td>\n",
       "      <td>1</td>\n",
       "      <td>0</td>\n",
       "    </tr>\n",
       "  </tbody>\n",
       "</table>\n",
       "<p>5 rows × 32 columns</p>\n",
       "</div>"
      ],
      "text/plain": [
       "   customerID  SeniorCitizen  Partner  Dependents  tenure  PhoneService  \\\n",
       "0  7590-VHVEG              0        1           0       1             0   \n",
       "1  5575-GNVDE              0        0           0      34             1   \n",
       "2  3668-QPYBK              0        0           0       2             1   \n",
       "3  7795-CFOCW              0        0           0      45             0   \n",
       "4  9237-HQITU              0        0           0       2             1   \n",
       "\n",
       "   PaperlessBilling  MonthlyCharges  TotalCharges  Churn  ...  \\\n",
       "0                 1           29.85         29.85      0  ...   \n",
       "1                 0           56.95       1889.50      0  ...   \n",
       "2                 1           53.85        108.15      1  ...   \n",
       "3                 0           42.30       1840.75      0  ...   \n",
       "4                 1           70.70        151.65      1  ...   \n",
       "\n",
       "   TechSupport_Yes  StreamingTV_No internet service  StreamingTV_Yes  \\\n",
       "0                0                                0                0   \n",
       "1                0                                0                0   \n",
       "2                0                                0                0   \n",
       "3                1                                0                0   \n",
       "4                0                                0                0   \n",
       "\n",
       "   StreamingMovies_No internet service  StreamingMovies_Yes  \\\n",
       "0                                    0                    0   \n",
       "1                                    0                    0   \n",
       "2                                    0                    0   \n",
       "3                                    0                    0   \n",
       "4                                    0                    0   \n",
       "\n",
       "   Contract_One year  Contract_Two year  \\\n",
       "0                  0                  0   \n",
       "1                  1                  0   \n",
       "2                  0                  0   \n",
       "3                  1                  0   \n",
       "4                  0                  0   \n",
       "\n",
       "   PaymentMethod_Credit card (automatic)  PaymentMethod_Electronic check  \\\n",
       "0                                      0                               1   \n",
       "1                                      0                               0   \n",
       "2                                      0                               0   \n",
       "3                                      0                               0   \n",
       "4                                      0                               1   \n",
       "\n",
       "   PaymentMethod_Mailed check  \n",
       "0                           0  \n",
       "1                           1  \n",
       "2                           1  \n",
       "3                           0  \n",
       "4                           0  \n",
       "\n",
       "[5 rows x 32 columns]"
      ]
     },
     "execution_count": 35,
     "metadata": {},
     "output_type": "execute_result"
    }
   ],
   "source": [
    "churn_df.head()"
   ]
  },
  {
   "cell_type": "code",
   "execution_count": 36,
   "id": "29196474-293e-4ed3-bd1a-301955a7d0c4",
   "metadata": {},
   "outputs": [
    {
     "name": "stdout",
     "output_type": "stream",
     "text": [
      "Average Churn Rate: 26.54%\n"
     ]
    }
   ],
   "source": [
    "churn_rate = churn_df['Churn'].mean()\n",
    "print(f\"Average Churn Rate: {churn_rate:.2%}\")"
   ]
  },
  {
   "cell_type": "code",
   "execution_count": 37,
   "id": "e112d5c4-9f05-4f39-88cb-ade0b507d5d5",
   "metadata": {},
   "outputs": [],
   "source": [
    "# dropping missing values from TotalCharges to avoid errors when training the model\n",
    "churn_df.dropna(subset=['TotalCharges'],inplace=True)"
   ]
  },
  {
   "cell_type": "code",
   "execution_count": 38,
   "id": "4da9518b-4146-4db5-86ce-fc2b501ac346",
   "metadata": {},
   "outputs": [],
   "source": [
    "# dropping customerID column because it does not aid model performance\n",
    "churn_df.drop(columns='customerID', inplace=True)"
   ]
  },
  {
   "cell_type": "code",
   "execution_count": 39,
   "id": "94a243cb-c99f-49a9-952a-a77fc24cede0",
   "metadata": {},
   "outputs": [],
   "source": [
    "# identify numeric columns for scaling\n",
    "numeric_columns = ['MonthlyCharges', 'TotalCharges', 'tenure']"
   ]
  },
  {
   "cell_type": "code",
   "execution_count": 40,
   "id": "232f9e62-bd91-4ad8-9155-e9f194b214ed",
   "metadata": {},
   "outputs": [],
   "source": [
    "# scaling numeric columns\n",
    "scaler = StandardScaler()\n",
    "churn_df[numeric_columns] = scaler.fit_transform(churn_df[numeric_columns])"
   ]
  },
  {
   "cell_type": "markdown",
   "id": "0ad80c96-8c2b-44de-becd-041bf5386ccb",
   "metadata": {},
   "source": [
    "---\n",
    "<h2 style=\"color:darkcyan;\">6. Modeling</h2>"
   ]
  },
  {
   "cell_type": "markdown",
   "id": "eabb194c-984c-48c9-aba7-8f55ccaf86f5",
   "metadata": {},
   "source": [
    "The objective for this section is to use customer data to predict churn (Churn = Yes - customer will leave the company)"
   ]
  },
  {
   "cell_type": "code",
   "execution_count": 41,
   "id": "3b05afb1-33e7-4f42-916f-ee020f7a547f",
   "metadata": {},
   "outputs": [],
   "source": [
    "# splitting data into a training set (the portion of data the model will learn from)\n",
    "# and test set (the portion of data the model hasn't seen)\n",
    "\n",
    "def split_data(df, target_column='Churn', test_size=0.2, random_state=42, stratify=True):\n",
    "    \"\"\"\n",
    "    Splits a dataframe into a training and testing set for modeling.\n",
    "\n",
    "    Parameters:\n",
    "    - df (DataFrame): The full dataset.\n",
    "    - target_column (str): The name of the target column.\n",
    "    - test_size (float): Proportion of the dataset to include in the test split.\n",
    "    - random_state (int): Seed for reproducibility.\n",
    "    - stratify (bool): Whether to stratify the target variable.\n",
    "\n",
    "    Returns:\n",
    "    - X_train, X_test, y_train, y_test: Split datasets.\n",
    "    \"\"\"\n",
    "\n",
    "    X = df.drop(columns=[target_column]) # all columns except the target\n",
    "    y = df[target_column]\n",
    "\n",
    "    return train_test_split(\n",
    "        X, y,\n",
    "        test_size=test_size,\n",
    "        random_state=random_state,\n",
    "        stratify=y if stratify else None\n",
    "    )\n",
    "    \n",
    "    print(\"Train target distribution:\")\n",
    "    print(y_train.value_counts(normalize=True))\n",
    "    print(\"\\nTest target distribution:\")\n",
    "    print(y_test.value_counts(normalize=True))"
   ]
  },
  {
   "cell_type": "code",
   "execution_count": 42,
   "id": "04474e3a-655c-4eea-8c73-a14fd477b284",
   "metadata": {},
   "outputs": [],
   "source": [
    "X_train, X_test, y_train, y_test = split_data(churn_df, target_column='Churn')"
   ]
  },
  {
   "cell_type": "code",
   "execution_count": 43,
   "id": "58e76d55-85cc-47c9-b7aa-f72c96c1b172",
   "metadata": {},
   "outputs": [
    {
     "name": "stdout",
     "output_type": "stream",
     "text": [
      "Fitting 5 folds for each of 16 candidates, totalling 80 fits\n"
     ]
    },
    {
     "name": "stderr",
     "output_type": "stream",
     "text": [
      "/opt/anaconda3/lib/python3.12/site-packages/sklearn/linear_model/_sag.py:349: ConvergenceWarning: The max_iter was reached which means the coef_ did not converge\n",
      "  warnings.warn(\n",
      "/opt/anaconda3/lib/python3.12/site-packages/sklearn/linear_model/_sag.py:349: ConvergenceWarning: The max_iter was reached which means the coef_ did not converge\n",
      "  warnings.warn(\n",
      "/opt/anaconda3/lib/python3.12/site-packages/sklearn/linear_model/_sag.py:349: ConvergenceWarning: The max_iter was reached which means the coef_ did not converge\n",
      "  warnings.warn(\n",
      "/opt/anaconda3/lib/python3.12/site-packages/sklearn/linear_model/_sag.py:349: ConvergenceWarning: The max_iter was reached which means the coef_ did not converge\n",
      "  warnings.warn(\n",
      "/opt/anaconda3/lib/python3.12/site-packages/sklearn/linear_model/_sag.py:349: ConvergenceWarning: The max_iter was reached which means the coef_ did not converge\n",
      "  warnings.warn(\n",
      "/opt/anaconda3/lib/python3.12/site-packages/sklearn/linear_model/_sag.py:349: ConvergenceWarning: The max_iter was reached which means the coef_ did not converge\n",
      "  warnings.warn(\n",
      "/opt/anaconda3/lib/python3.12/site-packages/sklearn/linear_model/_sag.py:349: ConvergenceWarning: The max_iter was reached which means the coef_ did not converge\n",
      "  warnings.warn(\n",
      "/opt/anaconda3/lib/python3.12/site-packages/sklearn/linear_model/_sag.py:349: ConvergenceWarning: The max_iter was reached which means the coef_ did not converge\n",
      "  warnings.warn(\n",
      "/opt/anaconda3/lib/python3.12/site-packages/sklearn/linear_model/_sag.py:349: ConvergenceWarning: The max_iter was reached which means the coef_ did not converge\n",
      "  warnings.warn(\n"
     ]
    },
    {
     "name": "stdout",
     "output_type": "stream",
     "text": [
      "Best Parameters for Logistic Regression: {'C': 1, 'max_iter': 200, 'penalty': 'l2', 'solver': 'liblinear'}\n",
      "Best Cross Validation F1 Score: 0.5964\n"
     ]
    },
    {
     "name": "stderr",
     "output_type": "stream",
     "text": [
      "/opt/anaconda3/lib/python3.12/site-packages/sklearn/linear_model/_sag.py:349: ConvergenceWarning: The max_iter was reached which means the coef_ did not converge\n",
      "  warnings.warn(\n"
     ]
    }
   ],
   "source": [
    "# using GridSearch to tune the hyperparameters for the Logistic Regression\n",
    "\n",
    "from sklearn.linear_model import LogisticRegression\n",
    "from sklearn.model_selection import GridSearchCV\n",
    "\n",
    "param_grid = {\n",
    "    'C': [0.01, 0.1, 1, 10],\n",
    "    'penalty': ['l2'],\n",
    "    'solver': ['liblinear', 'saga'],\n",
    "    'max_iter': [200, 500]\n",
    "}\n",
    "\n",
    "grid_search_logreg = GridSearchCV(\n",
    "    LogisticRegression(),\n",
    "    param_grid,\n",
    "    cv=5,\n",
    "    scoring='f1',\n",
    "    verbose=1\n",
    ")\n",
    "\n",
    "grid_search_logreg.fit(X_train, y_train)\n",
    "\n",
    "best_logreg = grid_search_logreg.best_estimator_\n",
    "\n",
    "print(\"Best Parameters for Logistic Regression:\", grid_search_logreg.best_params_)\n",
    "print(f\"Best Cross Validation F1 Score: {grid_search_logreg.best_score_:.4f}\")\n"
   ]
  },
  {
   "cell_type": "code",
   "execution_count": 44,
   "id": "9cdcbe66-651c-43c3-8e8b-4079f1b8691f",
   "metadata": {},
   "outputs": [
    {
     "name": "stdout",
     "output_type": "stream",
     "text": [
      "Fitting 5 folds for each of 12 candidates, totalling 60 fits\n",
      "Best Parameters for Random Forest: {'class_weight': 'balanced', 'max_depth': 10, 'min_samples_split': 5, 'n_estimators': 200}\n",
      "Best Cross-Validated F1 Score: 0.6321\n"
     ]
    }
   ],
   "source": [
    "# using GridSearch to tune the hyperparameters for the Random Forest Classifier\n",
    "\n",
    "from sklearn.model_selection import GridSearchCV\n",
    "\n",
    "params = {\n",
    "    'n_estimators': [100, 200],\n",
    "    'max_depth': [None, 10, 20],\n",
    "    'min_samples_split': [2, 5],\n",
    "    'class_weight': ['balanced']\n",
    "}\n",
    "\n",
    "grid_search = GridSearchCV(\n",
    "    RandomForestClassifier(random_state=42),\n",
    "    param_grid=params,\n",
    "    scoring='f1',   \n",
    "    cv=5,\n",
    "    verbose=1,      \n",
    "    n_jobs=-1      \n",
    ")\n",
    "\n",
    "grid_search.fit(X_train, y_train)\n",
    "\n",
    "best_model = grid_search.best_estimator_\n",
    "\n",
    "print(\"Best Parameters for Random Forest:\", grid_search.best_params_)\n",
    "print(f\"Best Cross-Validated F1 Score: {grid_search.best_score_:.4f}\")"
   ]
  },
  {
   "cell_type": "markdown",
   "id": "25b5543e-44b1-475d-a487-422fb7ccf420",
   "metadata": {},
   "source": [
    "---\n",
    "<h2 style=\"color:darkcyan;\">7. Model Evaluation</h2>"
   ]
  },
  {
   "cell_type": "code",
   "execution_count": 45,
   "id": "4fbcf11f-a80e-4882-a920-34f3d97764c4",
   "metadata": {},
   "outputs": [
    {
     "name": "stdout",
     "output_type": "stream",
     "text": [
      "Accuracy: 0.8031272210376688\n",
      "\n",
      "Confusion Matrix:\n",
      " [[917 116]\n",
      " [161 213]]\n",
      "\n",
      "Classification Report:\n",
      "               precision    recall  f1-score   support\n",
      "\n",
      "           0       0.85      0.89      0.87      1033\n",
      "           1       0.65      0.57      0.61       374\n",
      "\n",
      "    accuracy                           0.80      1407\n",
      "   macro avg       0.75      0.73      0.74      1407\n",
      "weighted avg       0.80      0.80      0.80      1407\n",
      "\n"
     ]
    }
   ],
   "source": [
    "# making predictions\n",
    "\n",
    "from sklearn.metrics import classification_report, accuracy_score, confusion_matrix\n",
    "\n",
    "y_pred_logreg = best_logreg.predict(X_test)  # predicted churn (0 or 1)\n",
    "print(\"Accuracy:\", accuracy_score(y_test, y_pred_logreg))\n",
    "print(\"\\nConfusion Matrix:\\n\", confusion_matrix(y_test, y_pred_logreg))\n",
    "print(\"\\nClassification Report:\\n\", classification_report(y_test, y_pred_logreg))"
   ]
  },
  {
   "cell_type": "markdown",
   "id": "5e899ab8-a754-48f8-bc1b-bf222e53fa38",
   "metadata": {},
   "source": [
    "In the classification report, 0 (also referred to as class 0) represents customers that did **not** churn, while 1 (also referred to as class 1) represented customers that **did** churn.\n",
    "\n",
    "The first model used LogisticRegression and achieved an overall accuracy of 80%. A recall of 89% suggests that the model performed well in predicting customers who would stay. For identifying churners, it achieved a precision of 65% and recall of 57%, meaning it caught more than half of all churners, with moderate false positives. These results suggest the model is useful for flagging at-risk customers."
   ]
  },
  {
   "cell_type": "code",
   "execution_count": 46,
   "id": "438aebd5-e644-43e6-ac65-e5c70131b75a",
   "metadata": {},
   "outputs": [
    {
     "name": "stdout",
     "output_type": "stream",
     "text": [
      "Accuracy: 0.7626154939587776\n",
      "\n",
      "Confusion Matrix:\n",
      " [[791 242]\n",
      " [ 92 282]]\n",
      "\n",
      "Classification Report:\n",
      "               precision    recall  f1-score   support\n",
      "\n",
      "           0       0.90      0.77      0.83      1033\n",
      "           1       0.54      0.75      0.63       374\n",
      "\n",
      "    accuracy                           0.76      1407\n",
      "   macro avg       0.72      0.76      0.73      1407\n",
      "weighted avg       0.80      0.76      0.77      1407\n",
      "\n"
     ]
    }
   ],
   "source": [
    "y_pred_rf = best_model.predict(X_test)\n",
    "print(\"Accuracy:\", accuracy_score(y_test, y_pred_rf))\n",
    "print(\"\\nConfusion Matrix:\\n\", confusion_matrix(y_test, y_pred_rf))\n",
    "print(\"\\nClassification Report:\\n\", classification_report(y_test, y_pred_rf))"
   ]
  },
  {
   "cell_type": "markdown",
   "id": "4794aea6-956e-4490-8163-2a46b79d28ce",
   "metadata": {},
   "source": [
    "The second model used a Random Forest algorithm and achieved an overall accuracy of 76.3%.\n",
    "It correctly predicted 77% of customers who stayed (non-churners).\n",
    "For identifying churners (class 1), it achieved a precision of 54% and a recall of 75%, meaning it identified 75% of actual churners. \n",
    "\n",
    "Compared to Logistic Regression, the Random Forest model had higher recall but a lower F1-score for identifying churners.\n",
    "These results suggest the Random Forest model may be better suited for flagging at-risk customers (due to higher recall), but Logistic Regression provided more balanced performance overall based on cross-validated F1 score."
   ]
  },
  {
   "cell_type": "code",
   "execution_count": 47,
   "id": "c4f1d556-8540-42b8-84cd-089481f57ca8",
   "metadata": {},
   "outputs": [
    {
     "name": "stdout",
     "output_type": "stream",
     "text": [
      "Logistic Regression Cross Validation Accuracy: 0.8034688374829774\n",
      "Random Forest CV Accuracy: 0.7910975502491606\n"
     ]
    }
   ],
   "source": [
    "# using Cross Validation to compare model performance between the LogisticRegression & Random Forest algorithms\n",
    "\n",
    "# Re-define full feature set and target\n",
    "X = churn_df.drop(columns=['Churn'])\n",
    "y = churn_df['Churn']\n",
    "\n",
    "from sklearn.model_selection import cross_val_score\n",
    "logreg_model = LogisticRegression(max_iter=1000)\n",
    "logreg_cv_scores = cross_val_score(logreg_model, X, y, cv=5, scoring='accuracy')\n",
    "\n",
    "print(\"Logistic Regression Cross Validation Accuracy:\", logreg_cv_scores.mean())\n",
    "\n",
    "rf_model = RandomForestClassifier(n_estimators=100, random_state=42)\n",
    "rf_cv_scores = cross_val_score(rf_model, X, y, cv=5, scoring='accuracy')\n",
    "\n",
    "print(\"Random Forest CV Accuracy:\", rf_cv_scores.mean())"
   ]
  },
  {
   "cell_type": "code",
   "execution_count": 48,
   "id": "339a7fa9-d401-4a82-85af-a530b0d0fda5",
   "metadata": {},
   "outputs": [
    {
     "name": "stdout",
     "output_type": "stream",
     "text": [
      "Logistic Regression Cross Validation F1 Score: 0.5981\n",
      "Random Forest Cross Validation F1 Score:       0.5532\n"
     ]
    }
   ],
   "source": [
    "# Cross validating based on the f1-score\n",
    "\n",
    "logreg_f1_scores = cross_val_score(logreg_model, X, y, cv=5, scoring='f1')\n",
    "rf_f1_scores = cross_val_score(rf_model, X, y, cv=5, scoring='f1')\n",
    "\n",
    "print(f\"Logistic Regression Cross Validation F1 Score: {logreg_f1_scores.mean():.4f}\")\n",
    "print(f\"Random Forest Cross Validation F1 Score:       {rf_f1_scores.mean():.4f}\")"
   ]
  },
  {
   "cell_type": "markdown",
   "id": "d71b46f3-fc03-4665-9282-3b3dcccf99a2",
   "metadata": {},
   "source": [
    "We used cross-validation to compare model performance using both accuracy and F1-score.\n",
    "While accuracy gives an overall measure of correctness, F1-score provides deeper insight into how well the model captures churners, which is especially important in imbalanced classification problems like churn prediction.\n",
    "\n",
    "Although Random Forest achieved strong performance on the test set, cross-validation results show that **Logistic Regression consistently outperformed Random Forest in terms of F1 score (0.5981 vs 0.5532)**. Since F1 score is a better measure for imbalanced classification tasks like churn prediction, **Logistic Regression was selected as the final model.**\n"
   ]
  },
  {
   "cell_type": "markdown",
   "id": "e30a4c03-7b00-486e-9369-78befae4b50d",
   "metadata": {},
   "source": [
    "To interpret the Random Forest model, we examined which features were most important in predicting churn. The plot below shows the top predictors identified by the model. These features provide insights into customer behaviors that are most indicative of churn and can guide targeted retention efforts."
   ]
  },
  {
   "cell_type": "code",
   "execution_count": 49,
   "id": "61982742-92dc-4576-9b0c-a4138e50d866",
   "metadata": {},
   "outputs": [
    {
     "name": "stderr",
     "output_type": "stream",
     "text": [
      "/var/folders/z8/k_38h5950zvflgczl0bx3g2r0000gn/T/ipykernel_93272/1974672112.py:14: FutureWarning: \n",
      "\n",
      "Passing `palette` without assigning `hue` is deprecated and will be removed in v0.14.0. Assign the `y` variable to `hue` and set `legend=False` for the same effect.\n",
      "\n",
      "  sns.barplot(data=feature_df.head(10), x='Importance', y='Feature', palette='viridis')\n"
     ]
    },
    {
     "data": {
      "image/png": "[encoded data removed]",
      "text/plain": [
       "<Figure size 1000x600 with 1 Axes>"
      ]
     },
     "metadata": {},
     "output_type": "display_data"
    }
   ],
   "source": [
    "# identifying the most important features\n",
    "\n",
    "feature_names = X_train.columns\n",
    "importances = best_model.feature_importances_\n",
    "\n",
    "# Create a DataFrame\n",
    "feature_df = pd.DataFrame({\n",
    "    'Feature': feature_names,\n",
    "    'Importance': importances\n",
    "}).sort_values(by='Importance', ascending=False)\n",
    "\n",
    "# Plot top 10 features\n",
    "plt.figure(figsize=(10, 6))\n",
    "sns.barplot(data=feature_df.head(10), x='Importance', y='Feature', palette='viridis')\n",
    "plt.title('Top 10 Most Important Features for Predicting Churn')\n",
    "plt.xlabel('Feature Importance Score')\n",
    "plt.ylabel('Feature')\n",
    "plt.tight_layout()\n",
    "plt.show()"
   ]
  },
  {
   "cell_type": "markdown",
   "id": "b57c6f6e-736e-4949-b160-6089fea84ef8",
   "metadata": {},
   "source": [
    "---\n",
    "<h2 style=\"color:darkcyan;\">8. Conclusion</h2>"
   ]
  },
  {
   "cell_type": "markdown",
   "id": "6f5bf297-47aa-41be-9be8-ed0af68ebd41",
   "metadata": {},
   "source": [
    "This project aimed to answer the question: **What customer characteristics are most associated with churn, and can we build a model to predict which customers are at risk of leaving?** \n",
    "\n",
    "Based on the LogisticRegression and RandomForest algorithms, the features most predictive of churn were contract type, tenure, payment method, internet service type, and online security/tech support. This was consistent with the EDA findings.\n",
    "In conclusion, a predictive model could be produced to predict customers that are at risk of leaving. Some targeted retention strategies include offering incentives such as lower monthly costs in exchange for longer term contracts. The business could also push more advertisements for their OnlineSecurity and TechSupport services. These services could be bundled together, offering a small monthly saving. Alternatively, the services could be sold with other services that iffer higher retention, like longer contractor terms. Again, incentives such as loyalty programs/discounts could encourage customers to purchase services that result in higher retention."
   ]
  }
 ],
 "metadata": {
  "kernelspec": {
   "display_name": "Python 3 (ipykernel)",
   "language": "python",
   "name": "python3"
  },
  "language_info": {
   "codemirror_mode": {
    "name": "ipython",
    "version": 3
   },
   "file_extension": ".py",
   "mimetype": "text/x-python",
   "name": "python",
   "nbconvert_exporter": "python",
   "pygments_lexer": "ipython3",
   "version": "3.12.7"
  }
 },
 "nbformat": 4,
 "nbformat_minor": 5
}
